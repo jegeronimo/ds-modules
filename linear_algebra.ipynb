{
 "cells": [
  {
   "cell_type": "markdown",
   "id": "a950f423-bd44-46c0-9e33-171728978bcd",
   "metadata": {},
   "source": [
    "# Linear Algebra"
   ]
  },
  {
   "cell_type": "markdown",
   "id": "d83e4544-f10e-4681-a963-7a733dddac2d",
   "metadata": {},
   "source": [
    "### Author: James Geronimo"
   ]
  },
  {
   "cell_type": "markdown",
   "id": "f1b9ec17-9791-4c31-80c0-e4243f063738",
   "metadata": {},
   "source": [
    "This notebook wll go over introductory linear algebra principles, which are visualized using core data science techniques. The intersection between linear algebra and data science is profound, so understanding the two fields is imperative for understanding either subjects with greater perspective."
   ]
  },
  {
   "cell_type": "code",
   "execution_count": null,
   "id": "054f1692-adb4-4b27-96d7-366d5cc71337",
   "metadata": {},
   "outputs": [],
   "source": []
  }
 ],
 "metadata": {
  "kernelspec": {
   "display_name": "Python 3 (ipykernel)",
   "language": "python",
   "name": "python3"
  },
  "language_info": {
   "codemirror_mode": {
    "name": "ipython",
    "version": 3
   },
   "file_extension": ".py",
   "mimetype": "text/x-python",
   "name": "python",
   "nbconvert_exporter": "python",
   "pygments_lexer": "ipython3",
   "version": "3.11.11"
  }
 },
 "nbformat": 4,
 "nbformat_minor": 5
}
